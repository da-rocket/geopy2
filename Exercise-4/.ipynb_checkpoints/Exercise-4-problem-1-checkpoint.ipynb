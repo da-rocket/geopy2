{
 "cells": [
  {
   "cell_type": "markdown",
   "metadata": {
    "deletable": false,
    "editable": false,
    "nbgrader": {
     "cell_type": "markdown",
     "checksum": "72f8389ed65d7b12b1160a2d3cb19897",
     "grade": false,
     "grade_id": "cell-dc7532d3649929fe",
     "locked": true,
     "schema_version": 3,
     "solution": false
    }
   },
   "source": [
    "# Exercise 4\n",
    "\n",
    "This week we will practice how to do **data classification and aggregation in Geopandas**. We continue from the last week's exerise with rather similar idea. In this exercise we use data from the [Helsinki Region Travel Time Matrix](https://blogs.helsinki.fi/accessibility/helsinki-region-travel-time-matrix/) as input.\n",
    "\n",
    "\n",
    "## Problem 1: Join accessibility datasets into a grid and visualize them by using a classifier (10 points)\n",
    "\n",
    "\n",
    "![P1 example result](img/traveltimes_example.png)\n",
    "\n",
    "*Desired output from problem 1: Travel times by public transport (PT) and car to Itis and Myyrmanni*\n",
    "\n",
    "**Data:**\n",
    "\n",
    "[data/](data/) directory contains all the required input data for this exercise:\n",
    " \n",
    "- Travel time data: `travel_times_to_[XXXXXXX]_[NAME-OF-THE-CENTER].txt` (Travel times and distances in the Helsinki Region to different shopping centers  as text files)\n",
    "- Reference grid: `MetropAccess_YKR_grid_EurefFIN.shp`. \n",
    "\n",
    "Column `from_id` in the travel time data sets corresponds to the `YKR_ID` column in the grid shapefile.\n",
    "     \n",
    "**Steps:**\n",
    "\n",
    "In problem 1 we will focus on travel times to **Itis** and **Myyrmanni**. Our goal is to visualize travely times by public transport and car to both shopping centers. Before plotting the maps we need to classify the data. Your task is to **first develop the processing steps using Itis as input**, and then repeat the steps for Myyrmanni."
   ]
  },
  {
   "cell_type": "markdown",
   "metadata": {
    "deletable": false,
    "editable": false,
    "nbgrader": {
     "cell_type": "markdown",
     "checksum": "9b046616aa0c41114316e2e56ad69d16",
     "grade": false,
     "grade_id": "cell-fc5d70b88edd7ad6",
     "locked": true,
     "schema_version": 3,
     "solution": false
    }
   },
   "source": [
    "- Read the Polygon grid `MetropAccess_YKR_grid_EurefFIN.shp` into a GeoDataFrame called `grid` using geopandas:"
   ]
  },
  {
   "cell_type": "code",
   "execution_count": 1,
   "metadata": {
    "deletable": false,
    "nbgrader": {
     "cell_type": "code",
     "checksum": "d0ec6d4c9eb95f7e88fa5a05a48d05b0",
     "grade": false,
     "grade_id": "read_grid",
     "locked": false,
     "schema_version": 3,
     "solution": true,
     "task": false
    }
   },
   "outputs": [],
   "source": [
    "import pandas as pd\n",
    "import geopandas as gpd\n",
    "import matplotlib.pyplot as plt\n",
    "%matplotlib inline\n",
    "\n",
    "# filepath to grid file\n",
    "fp_grid = r'data\\MetropAccess_YKR_grid_EurefFIN.shp'\n",
    "\n",
    "# import geodf object\n",
    "grid = gpd.read_file(fp_grid)"
   ]
  },
  {
   "cell_type": "code",
   "execution_count": 2,
   "metadata": {
    "deletable": false,
    "editable": false,
    "nbgrader": {
     "cell_type": "code",
     "checksum": "17e0eb06e58e031f5c3a4bf37eca1a55",
     "grade": true,
     "grade_id": "problem_1_grid_input_test",
     "locked": true,
     "points": 0.5,
     "schema_version": 3,
     "solution": false
    }
   },
   "outputs": [
    {
     "name": "stdout",
     "output_type": "stream",
     "text": [
      "\n",
      "YKR GRID: 13231 rows\n"
     ]
    }
   ],
   "source": [
    "# NON-EDITABLE TEST CELL\n",
    "# Check the data\n",
    "print(\"\\nYKR GRID:\", len(grid), \"rows\")"
   ]
  },
  {
   "cell_type": "markdown",
   "metadata": {
    "deletable": false,
    "editable": false,
    "nbgrader": {
     "cell_type": "markdown",
     "checksum": "619651f4ad9a06c75f4d422d95c13c86",
     "grade": false,
     "grade_id": "cell-9328a2a52f7e9a86",
     "locked": true,
     "schema_version": 3,
     "solution": false,
     "task": false
    }
   },
   "source": [
    "- Read the travel time data file for Itis using Pandas into a variable called `data`. Separator is `\";\"` in the input file.\n",
    "- Select only following columns from the file:\n",
    "    \n",
    "   - `pt_r_t`\n",
    "   - `car_r_t`\n",
    "   - `from_id`\n",
    "   - `to_id`"
   ]
  },
  {
   "cell_type": "code",
   "execution_count": 3,
   "metadata": {
    "deletable": false,
    "nbgrader": {
     "cell_type": "code",
     "checksum": "151de7bc9173c1a268bd1a031699dab0",
     "grade": false,
     "grade_id": "read_data",
     "locked": false,
     "schema_version": 3,
     "solution": true
    }
   },
   "outputs": [],
   "source": [
    "# filepath to text file\n",
    "fp_data = r'data\\TravelTimes_to_5944003_Itis.txt'\n",
    "\n",
    "# import pandas df\n",
    "data = pd.read_csv(fp_data, sep=';')\n",
    "\n",
    "# specify cols of interest\n",
    "cols = ['pt_r_t', 'car_r_t', 'from_id', 'to_id']\n",
    "\n",
    "# refine selection\n",
    "data = data[cols]"
   ]
  },
  {
   "cell_type": "code",
   "execution_count": 4,
   "metadata": {
    "deletable": false,
    "editable": false,
    "nbgrader": {
     "cell_type": "code",
     "checksum": "968a7bffb9362c1788ce18fb64701bf8",
     "grade": true,
     "grade_id": "problem_1_data_input_test",
     "locked": true,
     "points": 0.5,
     "schema_version": 3,
     "solution": false,
     "task": false
    }
   },
   "outputs": [
    {
     "name": "stdout",
     "output_type": "stream",
     "text": [
      "\n",
      "ITIS: 13231 rows\n"
     ]
    }
   ],
   "source": [
    "# NON-EDITABLE TEST CELL\n",
    "# Check the data\n",
    "print(\"\\nITIS:\", len(data), \"rows\")"
   ]
  },
  {
   "cell_type": "markdown",
   "metadata": {
    "deletable": false,
    "editable": false,
    "nbgrader": {
     "cell_type": "markdown",
     "checksum": "0cd5890bb5ae2a1e651bd4f287746624",
     "grade": false,
     "grade_id": "cell-7466fe21ede7360b",
     "locked": true,
     "schema_version": 3,
     "solution": false
    }
   },
   "source": [
    "- join attributes from `data` to `grid` using the [merge](https://pandas.pydata.org/pandas-docs/stable/reference/api/pandas.DataFrame.merge.html) function: \n",
    "  - **`YKR_ID`** -column in `grid` corresponds to the **`from_id`** column in `data`\n",
    "  - store the join output into a variable called `data_geo` "
   ]
  },
  {
   "cell_type": "code",
   "execution_count": 5,
   "metadata": {
    "deletable": false,
    "nbgrader": {
     "cell_type": "code",
     "checksum": "f7a3330d7c1b94c80fd77771e9ba1def",
     "grade": false,
     "grade_id": "table_join",
     "locked": false,
     "schema_version": 3,
     "solution": true
    }
   },
   "outputs": [
    {
     "data": {
      "text/html": [
       "<div>\n",
       "<style scoped>\n",
       "    .dataframe tbody tr th:only-of-type {\n",
       "        vertical-align: middle;\n",
       "    }\n",
       "\n",
       "    .dataframe tbody tr th {\n",
       "        vertical-align: top;\n",
       "    }\n",
       "\n",
       "    .dataframe thead th {\n",
       "        text-align: right;\n",
       "    }\n",
       "</style>\n",
       "<table border=\"1\" class=\"dataframe\">\n",
       "  <thead>\n",
       "    <tr style=\"text-align: right;\">\n",
       "      <th></th>\n",
       "      <th>x</th>\n",
       "      <th>y</th>\n",
       "      <th>YKR_ID</th>\n",
       "      <th>geometry</th>\n",
       "      <th>pt_r_t</th>\n",
       "      <th>car_r_t</th>\n",
       "      <th>from_id</th>\n",
       "      <th>to_id</th>\n",
       "    </tr>\n",
       "  </thead>\n",
       "  <tbody>\n",
       "    <tr>\n",
       "      <th>0</th>\n",
       "      <td>381875.0</td>\n",
       "      <td>6697880.0</td>\n",
       "      <td>5785640</td>\n",
       "      <td>POLYGON ((382000.000 6697750.000, 381750.000 6...</td>\n",
       "      <td>132</td>\n",
       "      <td>50</td>\n",
       "      <td>5785640</td>\n",
       "      <td>5944003</td>\n",
       "    </tr>\n",
       "    <tr>\n",
       "      <th>1</th>\n",
       "      <td>382125.0</td>\n",
       "      <td>6697880.0</td>\n",
       "      <td>5785641</td>\n",
       "      <td>POLYGON ((382250.000 6697750.000, 382000.000 6...</td>\n",
       "      <td>135</td>\n",
       "      <td>51</td>\n",
       "      <td>5785641</td>\n",
       "      <td>5944003</td>\n",
       "    </tr>\n",
       "    <tr>\n",
       "      <th>2</th>\n",
       "      <td>382375.0</td>\n",
       "      <td>6697880.0</td>\n",
       "      <td>5785642</td>\n",
       "      <td>POLYGON ((382500.000 6697750.000, 382250.000 6...</td>\n",
       "      <td>137</td>\n",
       "      <td>58</td>\n",
       "      <td>5785642</td>\n",
       "      <td>5944003</td>\n",
       "    </tr>\n",
       "  </tbody>\n",
       "</table>\n",
       "</div>"
      ],
      "text/plain": [
       "          x          y   YKR_ID  \\\n",
       "0  381875.0  6697880.0  5785640   \n",
       "1  382125.0  6697880.0  5785641   \n",
       "2  382375.0  6697880.0  5785642   \n",
       "\n",
       "                                            geometry  pt_r_t  car_r_t  \\\n",
       "0  POLYGON ((382000.000 6697750.000, 381750.000 6...     132       50   \n",
       "1  POLYGON ((382250.000 6697750.000, 382000.000 6...     135       51   \n",
       "2  POLYGON ((382500.000 6697750.000, 382250.000 6...     137       58   \n",
       "\n",
       "   from_id    to_id  \n",
       "0  5785640  5944003  \n",
       "1  5785641  5944003  \n",
       "2  5785642  5944003  "
      ]
     },
     "execution_count": 5,
     "metadata": {},
     "output_type": "execute_result"
    }
   ],
   "source": [
    "data_geo = grid.merge(data, left_on='YKR_ID', right_on='from_id', how='inner')\n",
    "data_geo.head(3)"
   ]
  },
  {
   "cell_type": "code",
   "execution_count": 6,
   "metadata": {
    "deletable": false,
    "editable": false,
    "nbgrader": {
     "cell_type": "code",
     "checksum": "7b8d678d12a200d170cb06233ecf80cc",
     "grade": true,
     "grade_id": "problem_1_table_join_dtype_test",
     "locked": true,
     "points": 0.5,
     "schema_version": 3,
     "solution": false,
     "task": false
    }
   },
   "outputs": [],
   "source": [
    "# NON-EDITABLE TEST CELL\n",
    "#Check data type\n",
    "assert type(data_geo)  == gpd.geodataframe.GeoDataFrame, \"output should be a geodataframe\""
   ]
  },
  {
   "cell_type": "code",
   "execution_count": 7,
   "metadata": {
    "deletable": false,
    "editable": false,
    "nbgrader": {
     "cell_type": "code",
     "checksum": "498a84b345a5b0b581467c66952edcfd",
     "grade": true,
     "grade_id": "problem_1_table_join_columns_test",
     "locked": true,
     "points": 0.5,
     "schema_version": 3,
     "solution": false
    }
   },
   "outputs": [],
   "source": [
    "# NON-EDITABLE TEST CELL\n",
    "# Check that the merged output have (at least) the necessary columns\n",
    "required_columns = ['YKR_ID', 'pt_r_t', 'car_r_t', 'geometry']\n",
    "\n",
    "assert all(x in data_geo.columns for x in required_columns), \"Couldn't find all required columns\""
   ]
  },
  {
   "cell_type": "markdown",
   "metadata": {
    "deletable": false,
    "editable": false,
    "nbgrader": {
     "cell_type": "markdown",
     "checksum": "73c702d3a657f9f9ffc89778836ab366",
     "grade": false,
     "grade_id": "cell-c9758c259e0c8abd",
     "locked": true,
     "schema_version": 3,
     "solution": false
    }
   },
   "source": [
    "- Remove all rows containing no-data values (-1) from `data_geo`. You can for example [replace](https://pandas.pydata.org/pandas-docs/stable/reference/api/pandas.DataFrame.replace.html) the no-data values with numpy's `np.nan`, and then drop rows containing no-data values using the [DataFrame.dropna](https://pandas.pydata.org/pandas-docs/stable/reference/api/pandas.DataFrame.dropna.html) function."
   ]
  },
  {
   "cell_type": "code",
   "execution_count": 8,
   "metadata": {
    "deletable": false,
    "nbgrader": {
     "cell_type": "code",
     "checksum": "77edb0755e62f533924e50affba9f862",
     "grade": false,
     "grade_id": "replace_values",
     "locked": false,
     "schema_version": 3,
     "solution": true
    }
   },
   "outputs": [
    {
     "name": "stdout",
     "output_type": "stream",
     "text": [
      "Number of recs:  13020\n",
      "          x          y   YKR_ID  \\\n",
      "0  381875.0  6697880.0  5785640   \n",
      "1  382125.0  6697880.0  5785641   \n",
      "2  382375.0  6697880.0  5785642   \n",
      "\n",
      "                                            geometry  pt_r_t  car_r_t  \\\n",
      "0  POLYGON ((382000.000 6697750.000, 381750.000 6...   132.0     50.0   \n",
      "1  POLYGON ((382250.000 6697750.000, 382000.000 6...   135.0     51.0   \n",
      "2  POLYGON ((382500.000 6697750.000, 382250.000 6...   137.0     58.0   \n",
      "\n",
      "   from_id      to_id  \n",
      "0  5785640  5944003.0  \n",
      "1  5785641  5944003.0  \n",
      "2  5785642  5944003.0  \n"
     ]
    }
   ],
   "source": [
    "import numpy as np\n",
    "\n",
    "# replace -1 with NaN\n",
    "data_geo.replace(-1, np.nan, inplace=True)\n",
    "\n",
    "# drop NaN records\n",
    "data_geo.dropna(axis=0, inplace=True)\n",
    "\n",
    "# print a couple of checks\n",
    "print('Number of recs: ', len(data_geo))\n",
    "print(data_geo.head(3))"
   ]
  },
  {
   "cell_type": "code",
   "execution_count": 9,
   "metadata": {
    "deletable": false,
    "editable": false,
    "nbgrader": {
     "cell_type": "code",
     "checksum": "0e17f161592415d4b3453e16cd29b363",
     "grade": true,
     "grade_id": "problem_1_replace_values_test",
     "locked": true,
     "points": 1,
     "schema_version": 3,
     "solution": false
    }
   },
   "outputs": [],
   "source": [
    "# NON-EDITABLE TEST CELL\n",
    "# Check that -1 values are not present in the columns\n",
    "assert -1 not in data_geo[\"pt_r_t\"], \"No data values should be removed from the data!\"\n"
   ]
  },
  {
   "cell_type": "markdown",
   "metadata": {
    "deletable": false,
    "editable": false,
    "nbgrader": {
     "cell_type": "markdown",
     "checksum": "980fd5cde16964493f0889eb8dcff69e",
     "grade": false,
     "grade_id": "cell-a1ae2db99f7de17b",
     "locked": true,
     "schema_version": 3,
     "solution": false
    }
   },
   "source": [
    "- Classify the travel times for both travel modes (public transport and private car) into five-minute intervals \n",
    "    - Create a `UserDefined` classifier using the [pysal/mapclassify](https://github.com/pysal/mapclassify#userdefined) library using these class breaks: `5, 10, 15, 20, 25, 30, 35, 40, 45, 50, 55, 60`\n",
    "    - Apply the classifier to `pt_r_t` and `car_r_t` columns and store the results to `pt_r_t_cl` and `car_r_t_cl` columns, respectively\n",
    "    - Notice that these 12 class breaks will produce 13 classes (as 1 class break divides the data into two."
   ]
  },
  {
   "cell_type": "code",
   "execution_count": 18,
   "metadata": {
    "deletable": false,
    "nbgrader": {
     "cell_type": "code",
     "checksum": "202eca52c16a72ab3b8d6521ce364b20",
     "grade": false,
     "grade_id": "classify_values",
     "locked": false,
     "schema_version": 3,
     "solution": true
    }
   },
   "outputs": [
    {
     "data": {
      "text/html": [
       "<div>\n",
       "<style scoped>\n",
       "    .dataframe tbody tr th:only-of-type {\n",
       "        vertical-align: middle;\n",
       "    }\n",
       "\n",
       "    .dataframe tbody tr th {\n",
       "        vertical-align: top;\n",
       "    }\n",
       "\n",
       "    .dataframe thead th {\n",
       "        text-align: right;\n",
       "    }\n",
       "</style>\n",
       "<table border=\"1\" class=\"dataframe\">\n",
       "  <thead>\n",
       "    <tr style=\"text-align: right;\">\n",
       "      <th></th>\n",
       "      <th>pt_r_t</th>\n",
       "      <th>car_r_t</th>\n",
       "      <th>pt_r_t_cl</th>\n",
       "      <th>car_r_t_cl</th>\n",
       "    </tr>\n",
       "  </thead>\n",
       "  <tbody>\n",
       "    <tr>\n",
       "      <th>0</th>\n",
       "      <td>132.0</td>\n",
       "      <td>50.0</td>\n",
       "      <td>12</td>\n",
       "      <td>9</td>\n",
       "    </tr>\n",
       "    <tr>\n",
       "      <th>1</th>\n",
       "      <td>135.0</td>\n",
       "      <td>51.0</td>\n",
       "      <td>12</td>\n",
       "      <td>10</td>\n",
       "    </tr>\n",
       "    <tr>\n",
       "      <th>2</th>\n",
       "      <td>137.0</td>\n",
       "      <td>58.0</td>\n",
       "      <td>12</td>\n",
       "      <td>11</td>\n",
       "    </tr>\n",
       "    <tr>\n",
       "      <th>3</th>\n",
       "      <td>141.0</td>\n",
       "      <td>57.0</td>\n",
       "      <td>12</td>\n",
       "      <td>11</td>\n",
       "    </tr>\n",
       "    <tr>\n",
       "      <th>4</th>\n",
       "      <td>125.0</td>\n",
       "      <td>50.0</td>\n",
       "      <td>12</td>\n",
       "      <td>9</td>\n",
       "    </tr>\n",
       "  </tbody>\n",
       "</table>\n",
       "</div>"
      ],
      "text/plain": [
       "   pt_r_t  car_r_t  pt_r_t_cl  car_r_t_cl\n",
       "0   132.0     50.0         12           9\n",
       "1   135.0     51.0         12          10\n",
       "2   137.0     58.0         12          11\n",
       "3   141.0     57.0         12          11\n",
       "4   125.0     50.0         12           9"
      ]
     },
     "execution_count": 18,
     "metadata": {},
     "output_type": "execute_result"
    }
   ],
   "source": [
    "# import libraries\n",
    "import mapclassify\n",
    "\n",
    "# define class intervals\n",
    "class_breaks = [5., 10., 15., 20., 25., 30., 35., 40., 45., 50., 55., 60.]\n",
    "\n",
    "# create new cols to store results\n",
    "data_geo['pt_r_t_cl'] = None\n",
    "data_geo['car_r_t_cl'] = None\n",
    "\n",
    "# define a classifier\n",
    "classifier = mapclassify.UserDefined.make(bins=class_breaks)\n",
    "\n",
    "# classify data\n",
    "data_geo['pt_r_t_cl'] = data_geo[['pt_r_t']].apply(classifier)\n",
    "data_geo['car_r_t_cl'] = data_geo[['car_r_t']].apply(classifier)                           \n",
    "\n",
    "data_geo[['pt_r_t', 'car_r_t', 'pt_r_t_cl', 'car_r_t_cl']].head()\n"
   ]
  },
  {
   "cell_type": "code",
   "execution_count": 19,
   "metadata": {
    "deletable": false,
    "editable": false,
    "nbgrader": {
     "cell_type": "code",
     "checksum": "1b537b13dac72a0ba1503c8386414e3d",
     "grade": true,
     "grade_id": "problem_1_itis_pt_classify_test",
     "locked": true,
     "points": 1,
     "schema_version": 3,
     "solution": false,
     "task": false
    }
   },
   "outputs": [
    {
     "name": "stdout",
     "output_type": "stream",
     "text": [
      "travel times by public transport:\n",
      "    YKR_ID  pt_r_t  pt_r_t_cl\n",
      "0  5785640   132.0         12\n",
      "1  5785641   135.0         12\n",
      "2  5785642   137.0         12\n",
      "3  5785643   141.0         12\n",
      "4  5787544   125.0         12\n"
     ]
    }
   ],
   "source": [
    "# NON-EDITABLE TEST CELL\n",
    "#Check the output\n",
    "print(\"travel times by public transport:\")\n",
    "print(data_geo[['YKR_ID', 'pt_r_t', 'pt_r_t_cl']].head())"
   ]
  },
  {
   "cell_type": "code",
   "execution_count": 20,
   "metadata": {
    "deletable": false,
    "editable": false,
    "nbgrader": {
     "cell_type": "code",
     "checksum": "23b6f61399ac42b57b421096bcef84a8",
     "grade": true,
     "grade_id": "problem_1_itis_car_classify_test",
     "locked": true,
     "points": 1,
     "schema_version": 3,
     "solution": false,
     "task": false
    }
   },
   "outputs": [
    {
     "name": "stdout",
     "output_type": "stream",
     "text": [
      "Travel times by car:\n",
      "    YKR_ID  car_r_t  car_r_t_cl\n",
      "0  5785640     50.0           9\n",
      "1  5785641     51.0          10\n",
      "2  5785642     58.0          11\n",
      "3  5785643     57.0          11\n",
      "4  5787544     50.0           9\n"
     ]
    }
   ],
   "source": [
    "# NON-EDITABLE TEST CELL\n",
    "#Check the output\n",
    "print(\"Travel times by car:\")\n",
    "print(data_geo[['YKR_ID','car_r_t', 'car_r_t_cl']].head())"
   ]
  },
  {
   "cell_type": "markdown",
   "metadata": {},
   "source": [
    "**Plot the classified travel times to Itis**:\n",
    "\n",
    "![itis_example.png](img/itis_example.png)\n",
    "\n",
    "Create a 1x2 plot where the you plot travel times by public transport and travel times by car to Itis:\n",
    "- Create subplots using matplotlib having 1 row and 2 columns (use parameters `nrows` & `ncols`), and the figure size should be 10 inches by 5 inches (use parameter `figsize`)\n",
    "- Add titles for the subplots as seen in the example above\n",
    "- Remove the empty whitespace around the plots using function `plt.tight_layout()`\n",
    "- Save the figure into disk with filename `itis_accessibility.png`\n"
   ]
  },
  {
   "cell_type": "code",
   "execution_count": 23,
   "metadata": {
    "deletable": false,
    "nbgrader": {
     "cell_type": "code",
     "checksum": "d5bc01d196b50fee36dc911f13e07417",
     "grade": false,
     "grade_id": "plot_itis",
     "locked": false,
     "schema_version": 3,
     "solution": true,
     "task": false
    }
   },
   "outputs": [
    {
     "data": {
      "image/png": "[encoded data removed]",
      "text/plain": [
       "<Figure size 720x360 with 2 Axes>"
      ]
     },
     "metadata": {
      "needs_background": "light"
     },
     "output_type": "display_data"
    }
   ],
   "source": [
    "# Define output filename for the figure in here and use it when saving the file:\n",
    "output_fig1 = \"itis_accessibility.png\"\n",
    "\n",
    "fig, ax = plt.subplots(nrows=1, ncols=2, figsize=(10, 5))\n",
    "\n",
    "data_geo.plot(ax=ax[0], column='pt_r_t_cl', cmap=\"RdYlBu\")\n",
    "ax[0].set_title('Itis - Travel time by PT')\n",
    "\n",
    "data_geo.plot(ax=ax[1], column='car_r_t_cl', cmap=\"RdYlBu\")\n",
    "ax[1].set_title('Itis - Travel time by Car')\n",
    "\n",
    "plt.tight_layout()\n",
    "\n",
    "plt.savefig(output_fig1);\n"
   ]
  },
  {
   "cell_type": "code",
   "execution_count": 24,
   "metadata": {
    "deletable": false,
    "editable": false,
    "nbgrader": {
     "cell_type": "code",
     "checksum": "da41a4213247c27fe15786ffd8c9ec02",
     "grade": true,
     "grade_id": "problem_1_itis_output_test",
     "locked": true,
     "points": 0.5,
     "schema_version": 3,
     "solution": false,
     "task": false
    }
   },
   "outputs": [],
   "source": [
    "# NON-EDITABLE TEST CELL\n",
    "# Check that output figure file exists\n",
    "import os\n",
    "assert os.path.isfile(output_fig1), \"figure does not exists!\""
   ]
  },
  {
   "cell_type": "markdown",
   "metadata": {
    "deletable": false,
    "editable": false,
    "nbgrader": {
     "cell_type": "markdown",
     "checksum": "64f40faa19751d350bf02ee0e4e5a7f7",
     "grade": false,
     "grade_id": "repeating-process",
     "locked": true,
     "schema_version": 3,
     "solution": false,
     "task": false
    }
   },
   "source": [
    "**Repeat the steps for Myyrmanni:**\n",
    "\n",
    "![myyrmanni example figure](img/myyrmanni_example.png)\n",
    "\n",
    "Next, your task is to repeat all the same steps for **Myyrmanni** (`data/TravelTimes_to_5902043_Myyrmanni.txt`):\n",
    "\n",
    "    # Read text file using pandas into a variable called data\n",
    "    # Select columns 'pt_r_t', 'car_r_t', 'from_id', 'to_id'\n",
    "    # Make table join between grid and travel time data. Store output in a variable called data_geo\n",
    "    # Remove no data values\n",
    "    # Classify the values in columns 'pt_r_t', 'car_r_t' into new columns 'pt_r_t_cl', 'car_r_t_cl'\n",
    "    # Plot travel times by public transport and travel times by car.\n",
    "    # Save output image to file (myyrmanni_accessibility.png)\n",
    "\n",
    "*Hint: You can copy paste the code from your earlier solutions in here, just change the input file path.*\n"
   ]
  },
  {
   "cell_type": "code",
   "execution_count": 25,
   "metadata": {
    "deletable": false,
    "nbgrader": {
     "cell_type": "code",
     "checksum": "cc30b32e543db046535e6012638ccc8f",
     "grade": false,
     "grade_id": "cell-7a5388593168d78b",
     "locked": false,
     "schema_version": 3,
     "solution": true,
     "task": false
    }
   },
   "outputs": [
    {
     "data": {
      "image/png": "[encoded data removed]",
      "text/plain": [
       "<Figure size 720x360 with 2 Axes>"
      ]
     },
     "metadata": {
      "needs_background": "light"
     },
     "output_type": "display_data"
    }
   ],
   "source": [
    "# specify filepath to grid file\n",
    "fp_grid = r'data\\MetropAccess_YKR_grid_EurefFIN.shp'\n",
    "\n",
    "# import grid file as geodf\n",
    "grid = gpd.read_file(fp_grid)\n",
    "\n",
    "# specify filepath to text file\n",
    "fp_data = r'data\\TravelTimes_to_5902043_Myyrmanni.txt'\n",
    "\n",
    "# import txt file as pandas obj\n",
    "data = pd.read_csv(fp_data, sep=';')\n",
    "\n",
    "# specify cols of interest\n",
    "cols = ['pt_r_t', 'car_r_t', 'from_id', 'to_id']\n",
    "\n",
    "# keep columns of interest\n",
    "data = data[cols]\n",
    "\n",
    "# merge two datasets\n",
    "data_geo = grid.merge(data, left_on='YKR_ID', right_on='from_id', how='inner')\n",
    "\n",
    "# replace '-1' values with NaN\n",
    "data_geo.replace(-1, np.nan, inplace=True)\n",
    "\n",
    "# drop NaN records by rows\n",
    "data_geo.dropna(axis=0, inplace=True)\n",
    "\n",
    "# define intervals for user-defined classification\n",
    "class_breaks = [5., 10., 15., 20., 25., 30., 35., 40., 45., 50., 55., 60.]\n",
    "\n",
    "# create new cols to store results\n",
    "data_geo['pt_r_t_cl'] = None\n",
    "data_geo['car_r_t_cl'] = None\n",
    "\n",
    "# define a classifier\n",
    "classifier = mapclassify.UserDefined.make(bins=class_breaks)\n",
    "\n",
    "# apply classifier to specific cols\n",
    "data_geo['pt_r_t_cl'] = data_geo[['pt_r_t']].apply(classifier)\n",
    "data_geo['car_r_t_cl'] = data_geo[['car_r_t']].apply(classifier)                           \n",
    "\n",
    "output_fig2 = \"myyrmanni_accessibility.png\"\n",
    "\n",
    "fig, ax = plt.subplots(nrows=1, ncols=2, figsize=(10, 5))\n",
    "\n",
    "data_geo.plot(ax=ax[0], column='pt_r_t_cl', cmap=\"RdYlBu\")\n",
    "ax[0].set_title('Myyrmanni - Travel time by PT')\n",
    "\n",
    "data_geo.plot(ax=ax[1], column='car_r_t_cl', cmap=\"RdYlBu\")\n",
    "ax[1].set_title('Myyrmanni - Travel time by Car')\n",
    "\n",
    "plt.tight_layout()\n",
    "\n",
    "plt.savefig(output_fig2);\n"
   ]
  },
  {
   "cell_type": "code",
   "execution_count": 26,
   "metadata": {
    "deletable": false,
    "editable": false,
    "nbgrader": {
     "cell_type": "code",
     "checksum": "7dcf3cca574a986249939ac9315ffe08",
     "grade": true,
     "grade_id": "problem_1_final_output_test",
     "locked": true,
     "points": 0.5,
     "schema_version": 3,
     "solution": false,
     "task": false
    }
   },
   "outputs": [],
   "source": [
    "# NON-EDITABLE TEST CELL\n",
    "# Check that output figure file exists\n",
    "import os\n",
    "assert os.path.isfile(output_fig2), \"figure does not exists!\""
   ]
  },
  {
   "cell_type": "markdown",
   "metadata": {},
   "source": [
    "\n",
    "**Optional:  4-panel figure** (+2 extra points available if you choose to do this)\n",
    "\n",
    "As an optional task, plot travel times to Itis and Myyrmanni all in one 4-panel figure (see example at the top of this page)!\n",
    "\n",
    "Hints:\n",
    "- create a for-loop where you repeat all the steps for Itis and Myyrmanni (you can iterate over a list of input filepaths)\n",
    "- Before the for-loop, create a figure with 4 subplots (2 rows and 2 columns) and use figsize=(10,10)\n",
    "- Inside the for-loop, plot each map into one of the subplots. \n",
    "- save the figure as `shopping_center_accessibility.png` "
   ]
  },
  {
   "cell_type": "code",
   "execution_count": 32,
   "metadata": {
    "deletable": false,
    "nbgrader": {
     "cell_type": "code",
     "checksum": "b365e5801e120ac6e706ae42a938dc94",
     "grade": false,
     "grade_id": "for-loop",
     "locked": false,
     "schema_version": 3,
     "solution": true,
     "task": false
    }
   },
   "outputs": [
    {
     "name": "stdout",
     "output_type": "stream",
     "text": [
      "[[<AxesSubplot:> <AxesSubplot:>]\n",
      " [<AxesSubplot:> <AxesSubplot:>]]\n"
     ]
    },
    {
     "data": {
      "image/png": "[encoded data removed]",
      "text/plain": [
       "<Figure size 720x720 with 4 Axes>"
      ]
     },
     "metadata": {
      "needs_background": "light"
     },
     "output_type": "display_data"
    }
   ],
   "source": [
    "files = [r'data\\TravelTimes_to_5944003_Itis.txt', r'data\\TravelTimes_to_5902043_Myyrmanni.txt']\n",
    "\n",
    "fig, ax = plt.subplots(nrows=2, ncols=2, figsize=(10, 10))\n",
    "\n",
    "# filepath to grid file\n",
    "fp_grid = r'data\\MetropAccess_YKR_grid_EurefFIN.shp'\n",
    "\n",
    "# import geodf object\n",
    "grid = gpd.read_file(fp_grid)\n",
    "\n",
    "# specify cols of interest\n",
    "cols = ['pt_r_t', 'car_r_t', 'from_id', 'to_id']\n",
    "\n",
    "# define class intervals\n",
    "class_breaks = [5., 10., 15., 20., 25., 30., 35., 40., 45., 50., 55., 60.]\n",
    "\n",
    "# define a classifier\n",
    "classifier = mapclassify.UserDefined.make(bins=class_breaks)\n",
    "\n",
    "# import pandas df\n",
    "data = pd.read_csv(f, sep=';')\n",
    "\n",
    "# refine selection\n",
    "data = data[cols]\n",
    "\n",
    "for (row, f) in enumerate(files):    \n",
    "\n",
    "    data_geo = grid.merge(data, left_on='YKR_ID', right_on='from_id', how='inner')\n",
    "\n",
    "    # replace -1 with NaN\n",
    "    data_geo.replace(-1, np.nan, inplace=True)\n",
    "\n",
    "    # drop NaN records\n",
    "    data_geo.dropna(axis=0, inplace=True)\n",
    "\n",
    "    # create new cols to store results\n",
    "    data_geo['pt_r_t_cl'] = None\n",
    "    data_geo['car_r_t_cl'] = None\n",
    "\n",
    "    # classify data\n",
    "    data_geo['pt_r_t_cl'] = data_geo[['pt_r_t']].apply(classifier)\n",
    "    data_geo['car_r_t_cl'] = data_geo[['car_r_t']].apply(classifier)                           \n",
    "\n",
    "    data_geo.plot(ax=ax[0], column='pt_r_t_cl', cmap=\"RdYlBu\")\n",
    "    ax[0].set_title('Itis - Travel time by PT')\n",
    "\n",
    "    data_geo.plot(ax=ax[1], column='car_r_t_cl', cmap=\"RdYlBu\")\n",
    "    ax[1].set_title('Itis - Travel time by Car')\n",
    "\n",
    "    plt.tight_layout()\n",
    "\n",
    "\n",
    "plt.savefig(output_fig1);"
   ]
  },
  {
   "cell_type": "markdown",
   "metadata": {},
   "source": [
    "**Finally**, check that you have provided adequate comments in your code. If you have any thoughts about this exercise, you can write them in here:\n"
   ]
  },
  {
   "cell_type": "markdown",
   "metadata": {
    "deletable": false,
    "nbgrader": {
     "cell_type": "markdown",
     "checksum": "93ea07b57f7684eebcb15a4631ed5fbf",
     "grade": true,
     "grade_id": "cell-c75c11f6a94612ef",
     "locked": false,
     "points": 4,
     "schema_version": 3,
     "solution": true,
     "task": false
    }
   },
   "source": [
    "YOUR ANSWER HERE"
   ]
  },
  {
   "cell_type": "markdown",
   "metadata": {},
   "source": [
    "### Done!\n",
    "\n",
    "\n",
    "**Remember to commit the output figures** to your exercise repository! (One for Itis and one for Myyrmanni, or optionally a combined 4-panel figure for both shopping centers and both travel modes).\n",
    "\n",
    "That's it, once you have plotted the data and saved the output you are ready to continue with Problem 2."
   ]
  }
 ],
 "metadata": {
  "anaconda-cloud": {},
  "kernelspec": {
   "display_name": "Python 3",
   "language": "python",
   "name": "python3"
  },
  "language_info": {
   "codemirror_mode": {
    "name": "ipython",
    "version": 3
   },
   "file_extension": ".py",
   "mimetype": "text/x-python",
   "name": "python",
   "nbconvert_exporter": "python",
   "pygments_lexer": "ipython3",
   "version": "3.7.8"
  }
 },
 "nbformat": 4,
 "nbformat_minor": 4
}
