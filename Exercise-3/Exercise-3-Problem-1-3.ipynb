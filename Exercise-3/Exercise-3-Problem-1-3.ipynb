{
 "cells": [
  {
   "cell_type": "markdown",
   "metadata": {},
   "source": [
    "## Problem 1: Geocode shopping centers (5 points)\n",
    "\n",
    "The overall aim of problems 1-3 is to find out **how many people live within a walking distance (1.5 km) from certain shopping centers in Helsinki**.\n",
    "\n",
    "In problem 1 aim is to find out the addresses of shopping centers and to retreive numercal coordinates for these addresses. As an output, we will have a Shapefile called `shopping_centers.shp` which contains the geocoded result.\n",
    "\n",
    "**Preparation:** Find out the addresses for following shopping centers from the internet, and write the addresses into a text file called `shopping_centers.txt`:\n",
    "\n",
    " - Itis\n",
    " - Forum\n",
    " - Iso-omena\n",
    " - Sello\n",
    " - Jumbo\n",
    " - REDI\n",
    " - Tripla \n",
    " \n",
    " *Hint for \"Tripla\": This shopping center opened in October 10 2019, and if you are doing this exercise soon after that, the official address might not yet be in online databases. \n",
    " Check for an address nearby the Pasila railway station on OpenStreetMap.org and use that as input.*\n",
    "\n",
    "`shopping_centers.txt` should have semicolon (`;`) as a separator, and the file should include the following columns:\n",
    "\n",
    "- ``id`` (integer) containing an unique identifier for each shopping center\n",
    "- ``name`` (string) of each shopping center\n",
    "- ``addr`` (string) the address \n",
    "\n",
    "\n",
    "See and example of how to format the text file [in the lesson 3 materials](https://automating-gis-processes.github.io/site/master/notebooks/L3/geocoding_in_geopandas.html). Save (and upload) the text file into your exercise repository.\n",
    "\n",
    "- Read `shopping_centers.txt` that you just created into a pandas DataFrame called ``data``:"
   ]
  },
  {
   "cell_type": "code",
   "execution_count": 38,
   "metadata": {
    "deletable": false,
    "nbgrader": {
     "cell_type": "code",
     "checksum": "276d60ad6d7f474cc5214b8c85a0d5e4",
     "grade": false,
     "grade_id": "read_data",
     "locked": false,
     "schema_version": 3,
     "solution": true
    }
   },
   "outputs": [],
   "source": [
    "# Import modules\n",
    "import pandas as pd\n",
    "import geopandas as gpd\n",
    "from shapely.geometry import Point\n",
    "\n",
    "# Read the data (replace \"None\" with your own code)\n",
    "fp = r'shopping_centers.txt'\n",
    "data = pd.read_csv(fp, sep=';')"
   ]
  },
  {
   "cell_type": "code",
   "execution_count": 39,
   "metadata": {
    "deletable": false,
    "editable": false,
    "nbgrader": {
     "cell_type": "code",
     "checksum": "4e90dc0406dff7a0f4b0860443092087",
     "grade": true,
     "grade_id": "problem_1_read_data_tests",
     "locked": true,
     "points": 1,
     "schema_version": 3,
     "solution": false
    }
   },
   "outputs": [
    {
     "name": "stdout",
     "output_type": "stream",
     "text": [
      "     id       name                                           addr\n",
      "0  1000       Itis             Itäkatu 1, 00930 Helsinki, Finland\n",
      "1  1001      Forum    Mannerheimintie 20, 00100 Helsinki, Finland\n",
      "2  1002  Iso_omena          Piispansilta 11, 02230 Espoo, Finland\n",
      "3  1003      Sello        Leppävaarankatu 3, 02600 Espoo, Finland\n",
      "4  1004      Jumbo     Vantaanportinkatu 3, 01510 Vantaa, Finland\n",
      "5  1005       REDI  Hermannin rantatie 5, 00580 Helsinki, Finland\n",
      "6  1006     Tripla                        00240 Helsinki, Finland\n"
     ]
    }
   ],
   "source": [
    "#NON-EDITABLE TEST CELL\n",
    "# Check your input data\n",
    "print(data)"
   ]
  },
  {
   "cell_type": "markdown",
   "metadata": {},
   "source": [
    "- Geocode the addresses using the Nominatim geocoding service. Store the output in a variable called `geo`:"
   ]
  },
  {
   "cell_type": "code",
   "execution_count": 40,
   "metadata": {
    "deletable": false,
    "nbgrader": {
     "cell_type": "code",
     "checksum": "263051ed5136dfe8571b4fb4b4d46019",
     "grade": false,
     "grade_id": "geocode",
     "locked": false,
     "schema_version": 3,
     "solution": true
    }
   },
   "outputs": [
    {
     "data": {
      "text/html": [
       "<div>\n",
       "<style scoped>\n",
       "    .dataframe tbody tr th:only-of-type {\n",
       "        vertical-align: middle;\n",
       "    }\n",
       "\n",
       "    .dataframe tbody tr th {\n",
       "        vertical-align: top;\n",
       "    }\n",
       "\n",
       "    .dataframe thead th {\n",
       "        text-align: right;\n",
       "    }\n",
       "</style>\n",
       "<table border=\"1\" class=\"dataframe\">\n",
       "  <thead>\n",
       "    <tr style=\"text-align: right;\">\n",
       "      <th></th>\n",
       "      <th>geometry</th>\n",
       "      <th>address</th>\n",
       "    </tr>\n",
       "  </thead>\n",
       "  <tbody>\n",
       "    <tr>\n",
       "      <th>0</th>\n",
       "      <td>POINT (25.08294 60.21170)</td>\n",
       "      <td>Kauppakeskus Itis, 1-7, Itäkatu, Itäkeskus, Va...</td>\n",
       "    </tr>\n",
       "    <tr>\n",
       "      <th>1</th>\n",
       "      <td>POINT (24.93858 60.16893)</td>\n",
       "      <td>Apollo Street Bar, 20, Mannerheimintie, Keskus...</td>\n",
       "    </tr>\n",
       "    <tr>\n",
       "      <th>2</th>\n",
       "      <td>POINT (24.73779 60.16294)</td>\n",
       "      <td>Sports Academy, 11, Piispansilta, Nuottaniemi,...</td>\n",
       "    </tr>\n",
       "    <tr>\n",
       "      <th>3</th>\n",
       "      <td>POINT (24.81433 60.21770)</td>\n",
       "      <td>Mehiläinen Leppävaara, 3, Leppävaarankatu, Ete...</td>\n",
       "    </tr>\n",
       "    <tr>\n",
       "      <th>4</th>\n",
       "      <td>POINT (24.96282 60.29245)</td>\n",
       "      <td>Stockmann, 3, Vantaanportinkatu, Pakkala, Avia...</td>\n",
       "    </tr>\n",
       "    <tr>\n",
       "      <th>5</th>\n",
       "      <td>POINT (24.97904 60.18702)</td>\n",
       "      <td>Silta, 5, Hermannin rantatie, Kalasatama, Sörn...</td>\n",
       "    </tr>\n",
       "    <tr>\n",
       "      <th>6</th>\n",
       "      <td>POINT (24.92338 60.20076)</td>\n",
       "      <td>Pasila, Helsinki, Helsingin seutukunta, Uusima...</td>\n",
       "    </tr>\n",
       "  </tbody>\n",
       "</table>\n",
       "</div>"
      ],
      "text/plain": [
       "                    geometry  \\\n",
       "0  POINT (25.08294 60.21170)   \n",
       "1  POINT (24.93858 60.16893)   \n",
       "2  POINT (24.73779 60.16294)   \n",
       "3  POINT (24.81433 60.21770)   \n",
       "4  POINT (24.96282 60.29245)   \n",
       "5  POINT (24.97904 60.18702)   \n",
       "6  POINT (24.92338 60.20076)   \n",
       "\n",
       "                                             address  \n",
       "0  Kauppakeskus Itis, 1-7, Itäkatu, Itäkeskus, Va...  \n",
       "1  Apollo Street Bar, 20, Mannerheimintie, Keskus...  \n",
       "2  Sports Academy, 11, Piispansilta, Nuottaniemi,...  \n",
       "3  Mehiläinen Leppävaara, 3, Leppävaarankatu, Ete...  \n",
       "4  Stockmann, 3, Vantaanportinkatu, Pakkala, Avia...  \n",
       "5  Silta, 5, Hermannin rantatie, Kalasatama, Sörn...  \n",
       "6  Pasila, Helsinki, Helsingin seutukunta, Uusima...  "
      ]
     },
     "execution_count": 40,
     "metadata": {},
     "output_type": "execute_result"
    }
   ],
   "source": [
    "# import modules\n",
    "from geopandas.tools import geocode\n",
    "\n",
    "# Geocode the addresses using Nominatim\n",
    "geo = geocode(data['addr'], provider='nominatim', user_agent='autogis_VU', timeout=4)"
   ]
  },
  {
   "cell_type": "code",
   "execution_count": 41,
   "metadata": {
    "deletable": false,
    "editable": false,
    "nbgrader": {
     "cell_type": "code",
     "checksum": "a3b8c4fef69c89dbb3299b84c11d3db7",
     "grade": true,
     "grade_id": "problem_1_gdf_test",
     "locked": true,
     "points": 1,
     "schema_version": 3,
     "solution": false,
     "task": false
    }
   },
   "outputs": [
    {
     "name": "stdout",
     "output_type": "stream",
     "text": [
      "                    geometry  \\\n",
      "0  POINT (25.08294 60.21170)   \n",
      "1  POINT (24.93858 60.16893)   \n",
      "2  POINT (24.73779 60.16294)   \n",
      "3  POINT (24.81433 60.21770)   \n",
      "4  POINT (24.96282 60.29245)   \n",
      "5  POINT (24.97904 60.18702)   \n",
      "6  POINT (24.92338 60.20076)   \n",
      "\n",
      "                                             address  \n",
      "0  Kauppakeskus Itis, 1-7, Itäkatu, Itäkeskus, Va...  \n",
      "1  Apollo Street Bar, 20, Mannerheimintie, Keskus...  \n",
      "2  Sports Academy, 11, Piispansilta, Nuottaniemi,...  \n",
      "3  Mehiläinen Leppävaara, 3, Leppävaarankatu, Ete...  \n",
      "4  Stockmann, 3, Vantaanportinkatu, Pakkala, Avia...  \n",
      "5  Silta, 5, Hermannin rantatie, Kalasatama, Sörn...  \n",
      "6  Pasila, Helsinki, Helsingin seutukunta, Uusima...  \n"
     ]
    }
   ],
   "source": [
    "#NON-EDITABLE TEST CELL\n",
    "# Check the geocoded output\n",
    "print(geo)"
   ]
  },
  {
   "cell_type": "code",
   "execution_count": 42,
   "metadata": {
    "deletable": false,
    "editable": false,
    "nbgrader": {
     "cell_type": "code",
     "checksum": "f2e432e605330a668b5bfdbbbd12569e",
     "grade": true,
     "grade_id": "problem_1_geocode_tests",
     "locked": true,
     "points": 1,
     "schema_version": 3,
     "solution": false
    }
   },
   "outputs": [
    {
     "name": "stdout",
     "output_type": "stream",
     "text": [
      "<class 'geopandas.geodataframe.GeoDataFrame'>\n"
     ]
    }
   ],
   "source": [
    "#NON-EDITABLE TEST CELL\n",
    "# Check the data type (should be a GeoDataFrame!)\n",
    "print(type(geo))"
   ]
  },
  {
   "cell_type": "markdown",
   "metadata": {},
   "source": [
    "Check that the coordinate reference system of the geocoded result is correctly defined, and **reproject the layer into ETRS GK-25** (EPSG:3879):"
   ]
  },
  {
   "cell_type": "code",
   "execution_count": 45,
   "metadata": {
    "deletable": false,
    "nbgrader": {
     "cell_type": "code",
     "checksum": "472a4283af2c3532f40db1caa56100a7",
     "grade": false,
     "grade_id": "crs",
     "locked": false,
     "schema_version": 3,
     "solution": true
    }
   },
   "outputs": [],
   "source": [
    "# existing data.crs (EPSG:4326), which is based on WGS84. We need to reproject it to EPSG:3879, which is cartesian\n",
    "\n",
    "# import required library\n",
    "from pyproj import CRS\n",
    "\n",
    "# perform data projection\n",
    "geo = geo.to_crs(CRS.from_epsg(3879))\n"
   ]
  },
  {
   "cell_type": "code",
   "execution_count": 46,
   "metadata": {
    "deletable": false,
    "editable": false,
    "nbgrader": {
     "cell_type": "code",
     "checksum": "764cba257612241267e3b2bcc90b5dcd",
     "grade": true,
     "grade_id": "problem_1_crs_test",
     "locked": true,
     "points": 0.5,
     "schema_version": 3,
     "solution": false
    }
   },
   "outputs": [
    {
     "name": "stdout",
     "output_type": "stream",
     "text": [
      "epsg:3879\n"
     ]
    }
   ],
   "source": [
    "#NON-EDITABLE TEST CELL\n",
    "# Check layer crs\n",
    "print(geo.crs)"
   ]
  },
  {
   "cell_type": "markdown",
   "metadata": {},
   "source": [
    "- Make a table join between the geocoded addresses (``geo``) and the original addresses (``data``) in order to link the numerical coordinates and  the `id` and `name` of each shopping center. \n",
    "- Store the output in a variable called ``geodata`` \n"
   ]
  },
  {
   "cell_type": "code",
   "execution_count": 47,
   "metadata": {
    "deletable": false,
    "nbgrader": {
     "cell_type": "code",
     "checksum": "e5981729844bc6f2bca05c1a615c0f0e",
     "grade": false,
     "grade_id": "join",
     "locked": false,
     "schema_version": 3,
     "solution": true
    }
   },
   "outputs": [
    {
     "data": {
      "text/html": [
       "<div>\n",
       "<style scoped>\n",
       "    .dataframe tbody tr th:only-of-type {\n",
       "        vertical-align: middle;\n",
       "    }\n",
       "\n",
       "    .dataframe tbody tr th {\n",
       "        vertical-align: top;\n",
       "    }\n",
       "\n",
       "    .dataframe thead th {\n",
       "        text-align: right;\n",
       "    }\n",
       "</style>\n",
       "<table border=\"1\" class=\"dataframe\">\n",
       "  <thead>\n",
       "    <tr style=\"text-align: right;\">\n",
       "      <th></th>\n",
       "      <th>geometry</th>\n",
       "      <th>address</th>\n",
       "      <th>id</th>\n",
       "      <th>name</th>\n",
       "      <th>addr</th>\n",
       "    </tr>\n",
       "  </thead>\n",
       "  <tbody>\n",
       "    <tr>\n",
       "      <th>0</th>\n",
       "      <td>POINT (25504598.602 6677662.109)</td>\n",
       "      <td>Kauppakeskus Itis, 1-7, Itäkatu, Itäkeskus, Va...</td>\n",
       "      <td>1000</td>\n",
       "      <td>Itis</td>\n",
       "      <td>Itäkatu 1, 00930 Helsinki, Finland</td>\n",
       "    </tr>\n",
       "    <tr>\n",
       "      <th>1</th>\n",
       "      <td>POINT (25496590.247 6672895.892)</td>\n",
       "      <td>Apollo Street Bar, 20, Mannerheimintie, Keskus...</td>\n",
       "      <td>1001</td>\n",
       "      <td>Forum</td>\n",
       "      <td>Mannerheimintie 20, 00100 Helsinki, Finland</td>\n",
       "    </tr>\n",
       "    <tr>\n",
       "      <th>2</th>\n",
       "      <td>POINT (25485440.532 6672255.563)</td>\n",
       "      <td>Sports Academy, 11, Piispansilta, Nuottaniemi,...</td>\n",
       "      <td>1002</td>\n",
       "      <td>Iso_omena</td>\n",
       "      <td>Piispansilta 11, 02230 Espoo, Finland</td>\n",
       "    </tr>\n",
       "    <tr>\n",
       "      <th>3</th>\n",
       "      <td>POINT (25489707.583 6678342.162)</td>\n",
       "      <td>Mehiläinen Leppävaara, 3, Leppävaarankatu, Ete...</td>\n",
       "      <td>1003</td>\n",
       "      <td>Sello</td>\n",
       "      <td>Leppävaarankatu 3, 02600 Espoo, Finland</td>\n",
       "    </tr>\n",
       "    <tr>\n",
       "      <th>4</th>\n",
       "      <td>POINT (25497943.932 6686656.982)</td>\n",
       "      <td>Stockmann, 3, Vantaanportinkatu, Pakkala, Avia...</td>\n",
       "      <td>1004</td>\n",
       "      <td>Jumbo</td>\n",
       "      <td>Vantaanportinkatu 3, 01510 Vantaa, Finland</td>\n",
       "    </tr>\n",
       "  </tbody>\n",
       "</table>\n",
       "</div>"
      ],
      "text/plain": [
       "                           geometry  \\\n",
       "0  POINT (25504598.602 6677662.109)   \n",
       "1  POINT (25496590.247 6672895.892)   \n",
       "2  POINT (25485440.532 6672255.563)   \n",
       "3  POINT (25489707.583 6678342.162)   \n",
       "4  POINT (25497943.932 6686656.982)   \n",
       "\n",
       "                                             address    id       name  \\\n",
       "0  Kauppakeskus Itis, 1-7, Itäkatu, Itäkeskus, Va...  1000       Itis   \n",
       "1  Apollo Street Bar, 20, Mannerheimintie, Keskus...  1001      Forum   \n",
       "2  Sports Academy, 11, Piispansilta, Nuottaniemi,...  1002  Iso_omena   \n",
       "3  Mehiläinen Leppävaara, 3, Leppävaarankatu, Ete...  1003      Sello   \n",
       "4  Stockmann, 3, Vantaanportinkatu, Pakkala, Avia...  1004      Jumbo   \n",
       "\n",
       "                                          addr  \n",
       "0           Itäkatu 1, 00930 Helsinki, Finland  \n",
       "1  Mannerheimintie 20, 00100 Helsinki, Finland  \n",
       "2        Piispansilta 11, 02230 Espoo, Finland  \n",
       "3      Leppävaarankatu 3, 02600 Espoo, Finland  \n",
       "4   Vantaanportinkatu 3, 01510 Vantaa, Finland  "
      ]
     },
     "execution_count": 47,
     "metadata": {},
     "output_type": "execute_result"
    }
   ],
   "source": [
    "# Join the tables\n",
    "geodata = geo.join(data)\n"
   ]
  },
  {
   "cell_type": "code",
   "execution_count": 48,
   "metadata": {
    "deletable": false,
    "editable": false,
    "nbgrader": {
     "cell_type": "code",
     "checksum": "98d25baeb42eaeb2701f09f42c8c84c5",
     "grade": true,
     "grade_id": "problem_1_join_test",
     "locked": true,
     "points": 1,
     "schema_version": 3,
     "solution": false
    }
   },
   "outputs": [
    {
     "name": "stdout",
     "output_type": "stream",
     "text": [
      "                           geometry  \\\n",
      "0  POINT (25504598.602 6677662.109)   \n",
      "1  POINT (25496590.247 6672895.892)   \n",
      "2  POINT (25485440.532 6672255.563)   \n",
      "3  POINT (25489707.583 6678342.162)   \n",
      "4  POINT (25497943.932 6686656.982)   \n",
      "\n",
      "                                             address    id       name  \\\n",
      "0  Kauppakeskus Itis, 1-7, Itäkatu, Itäkeskus, Va...  1000       Itis   \n",
      "1  Apollo Street Bar, 20, Mannerheimintie, Keskus...  1001      Forum   \n",
      "2  Sports Academy, 11, Piispansilta, Nuottaniemi,...  1002  Iso_omena   \n",
      "3  Mehiläinen Leppävaara, 3, Leppävaarankatu, Ete...  1003      Sello   \n",
      "4  Stockmann, 3, Vantaanportinkatu, Pakkala, Avia...  1004      Jumbo   \n",
      "\n",
      "                                          addr  \n",
      "0           Itäkatu 1, 00930 Helsinki, Finland  \n",
      "1  Mannerheimintie 20, 00100 Helsinki, Finland  \n",
      "2        Piispansilta 11, 02230 Espoo, Finland  \n",
      "3      Leppävaarankatu 3, 02600 Espoo, Finland  \n",
      "4   Vantaanportinkatu 3, 01510 Vantaa, Finland  \n"
     ]
    }
   ],
   "source": [
    "#NON-EDITABLE TEST CELL\n",
    "# Check the join output\n",
    "print(geodata.head())"
   ]
  },
  {
   "cell_type": "markdown",
   "metadata": {},
   "source": [
    "- Save the output as a Shapefile called `shopping_centers.shp` "
   ]
  },
  {
   "cell_type": "code",
   "execution_count": 49,
   "metadata": {
    "deletable": false,
    "nbgrader": {
     "cell_type": "code",
     "checksum": "b629dc394afb0d2df49c16b3dd227f50",
     "grade": false,
     "grade_id": "save_data",
     "locked": false,
     "schema_version": 3,
     "solution": true
    }
   },
   "outputs": [],
   "source": [
    "# Define output filepath\n",
    "out_fp = r'shopping_centers.shp'\n",
    "\n",
    "# Save file\n",
    "geodata.to_file(out_fp)\n"
   ]
  },
  {
   "cell_type": "code",
   "execution_count": 50,
   "metadata": {
    "deletable": false,
    "editable": false,
    "nbgrader": {
     "cell_type": "code",
     "checksum": "80aac786841c50c2fd08ca078bc13a56",
     "grade": true,
     "grade_id": "problem_1_save_data_test",
     "locked": true,
     "points": 0.5,
     "schema_version": 3,
     "solution": false
    }
   },
   "outputs": [
    {
     "name": "stdout",
     "output_type": "stream",
     "text": [
      "Geocoded output is stored in this file: shopping_centers.shp\n"
     ]
    }
   ],
   "source": [
    "#NON-EDITABLE TEST CELL\n",
    "# Print info about output file\n",
    "print(\"Geocoded output is stored in this file:\", out_fp)"
   ]
  },
  {
   "cell_type": "markdown",
   "metadata": {},
   "source": [
    "## Problem 2: Create buffers around shopping centers (5 points)\n",
    "\n",
    "Let's continue with our case study and calculate a 1.5 km buffer around the geocoded points. \n",
    "\n",
    "\n",
    "- Start by creating a new column called `buffer` to ``geodata`` GeoDataFrame:"
   ]
  },
  {
   "cell_type": "code",
   "execution_count": 52,
   "metadata": {
    "deletable": false,
    "nbgrader": {
     "cell_type": "code",
     "checksum": "9c602979bc0a9135d9ea750b6a0da28b",
     "grade": false,
     "grade_id": "new_column",
     "locked": false,
     "schema_version": 3,
     "solution": true
    }
   },
   "outputs": [],
   "source": [
    "# create a ne col\n",
    "geodata['buffer'] = None"
   ]
  },
  {
   "cell_type": "markdown",
   "metadata": {},
   "source": [
    "- Calculate a 1.5 km buffer for each geocoded point. Store the buffer geometry in the new `buffer` column.\n",
    "\n",
    "Here, you can use the [GeoDataFrame buffer() method](http://geopandas.org/geometric_manipulations.html#GeoSeries.buffer), which uses Shapely's [buffer](http://toblerity.org/shapely/manual.html#object.buffer) in the bacground. You only need to use the `distance` -parameter, don't worry about the other parameters."
   ]
  },
  {
   "cell_type": "code",
   "execution_count": 53,
   "metadata": {
    "deletable": false,
    "nbgrader": {
     "cell_type": "code",
     "checksum": "7ab6ebd4853d746e89d6f8dcdb569c99",
     "grade": false,
     "grade_id": "buffer",
     "locked": false,
     "schema_version": 3,
     "solution": true
    }
   },
   "outputs": [
    {
     "data": {
      "text/html": [
       "<div>\n",
       "<style scoped>\n",
       "    .dataframe tbody tr th:only-of-type {\n",
       "        vertical-align: middle;\n",
       "    }\n",
       "\n",
       "    .dataframe tbody tr th {\n",
       "        vertical-align: top;\n",
       "    }\n",
       "\n",
       "    .dataframe thead th {\n",
       "        text-align: right;\n",
       "    }\n",
       "</style>\n",
       "<table border=\"1\" class=\"dataframe\">\n",
       "  <thead>\n",
       "    <tr style=\"text-align: right;\">\n",
       "      <th></th>\n",
       "      <th>geometry</th>\n",
       "      <th>address</th>\n",
       "      <th>id</th>\n",
       "      <th>name</th>\n",
       "      <th>addr</th>\n",
       "      <th>buffer</th>\n",
       "    </tr>\n",
       "  </thead>\n",
       "  <tbody>\n",
       "    <tr>\n",
       "      <th>0</th>\n",
       "      <td>POINT (25504598.602 6677662.109)</td>\n",
       "      <td>Kauppakeskus Itis, 1-7, Itäkatu, Itäkeskus, Va...</td>\n",
       "      <td>1000</td>\n",
       "      <td>Itis</td>\n",
       "      <td>Itäkatu 1, 00930 Helsinki, Finland</td>\n",
       "      <td>POLYGON ((25506098.602 6677662.109, 25506091.3...</td>\n",
       "    </tr>\n",
       "    <tr>\n",
       "      <th>1</th>\n",
       "      <td>POINT (25496590.247 6672895.892)</td>\n",
       "      <td>Apollo Street Bar, 20, Mannerheimintie, Keskus...</td>\n",
       "      <td>1001</td>\n",
       "      <td>Forum</td>\n",
       "      <td>Mannerheimintie 20, 00100 Helsinki, Finland</td>\n",
       "      <td>POLYGON ((25498090.247 6672895.892, 25498083.0...</td>\n",
       "    </tr>\n",
       "    <tr>\n",
       "      <th>2</th>\n",
       "      <td>POINT (25485440.532 6672255.563)</td>\n",
       "      <td>Sports Academy, 11, Piispansilta, Nuottaniemi,...</td>\n",
       "      <td>1002</td>\n",
       "      <td>Iso_omena</td>\n",
       "      <td>Piispansilta 11, 02230 Espoo, Finland</td>\n",
       "      <td>POLYGON ((25486940.532 6672255.563, 25486933.3...</td>\n",
       "    </tr>\n",
       "    <tr>\n",
       "      <th>3</th>\n",
       "      <td>POINT (25489707.583 6678342.162)</td>\n",
       "      <td>Mehiläinen Leppävaara, 3, Leppävaarankatu, Ete...</td>\n",
       "      <td>1003</td>\n",
       "      <td>Sello</td>\n",
       "      <td>Leppävaarankatu 3, 02600 Espoo, Finland</td>\n",
       "      <td>POLYGON ((25491207.583 6678342.162, 25491200.3...</td>\n",
       "    </tr>\n",
       "    <tr>\n",
       "      <th>4</th>\n",
       "      <td>POINT (25497943.932 6686656.982)</td>\n",
       "      <td>Stockmann, 3, Vantaanportinkatu, Pakkala, Avia...</td>\n",
       "      <td>1004</td>\n",
       "      <td>Jumbo</td>\n",
       "      <td>Vantaanportinkatu 3, 01510 Vantaa, Finland</td>\n",
       "      <td>POLYGON ((25499443.932 6686656.982, 25499436.7...</td>\n",
       "    </tr>\n",
       "  </tbody>\n",
       "</table>\n",
       "</div>"
      ],
      "text/plain": [
       "                           geometry  \\\n",
       "0  POINT (25504598.602 6677662.109)   \n",
       "1  POINT (25496590.247 6672895.892)   \n",
       "2  POINT (25485440.532 6672255.563)   \n",
       "3  POINT (25489707.583 6678342.162)   \n",
       "4  POINT (25497943.932 6686656.982)   \n",
       "\n",
       "                                             address    id       name  \\\n",
       "0  Kauppakeskus Itis, 1-7, Itäkatu, Itäkeskus, Va...  1000       Itis   \n",
       "1  Apollo Street Bar, 20, Mannerheimintie, Keskus...  1001      Forum   \n",
       "2  Sports Academy, 11, Piispansilta, Nuottaniemi,...  1002  Iso_omena   \n",
       "3  Mehiläinen Leppävaara, 3, Leppävaarankatu, Ete...  1003      Sello   \n",
       "4  Stockmann, 3, Vantaanportinkatu, Pakkala, Avia...  1004      Jumbo   \n",
       "\n",
       "                                          addr  \\\n",
       "0           Itäkatu 1, 00930 Helsinki, Finland   \n",
       "1  Mannerheimintie 20, 00100 Helsinki, Finland   \n",
       "2        Piispansilta 11, 02230 Espoo, Finland   \n",
       "3      Leppävaarankatu 3, 02600 Espoo, Finland   \n",
       "4   Vantaanportinkatu 3, 01510 Vantaa, Finland   \n",
       "\n",
       "                                              buffer  \n",
       "0  POLYGON ((25506098.602 6677662.109, 25506091.3...  \n",
       "1  POLYGON ((25498090.247 6672895.892, 25498083.0...  \n",
       "2  POLYGON ((25486940.532 6672255.563, 25486933.3...  \n",
       "3  POLYGON ((25491207.583 6678342.162, 25491200.3...  \n",
       "4  POLYGON ((25499443.932 6686656.982, 25499436.7...  "
      ]
     },
     "execution_count": 53,
     "metadata": {},
     "output_type": "execute_result"
    }
   ],
   "source": [
    "# units of geodata.crs are meters, so use 1500m as a buffer distance\n",
    "geodata['buffer'] = geodata.buffer(1500)\n",
    "geodata.head()"
   ]
  },
  {
   "cell_type": "code",
   "execution_count": 54,
   "metadata": {
    "deletable": false,
    "editable": false,
    "nbgrader": {
     "cell_type": "code",
     "checksum": "e2765a36c4eb2331624d3b990eccfe9f",
     "grade": true,
     "grade_id": "problem_2_column_test",
     "locked": true,
     "points": 1,
     "schema_version": 3,
     "solution": false,
     "task": false
    }
   },
   "outputs": [
    {
     "name": "stdout",
     "output_type": "stream",
     "text": [
      "                           geometry  \\\n",
      "0  POINT (25504598.602 6677662.109)   \n",
      "1  POINT (25496590.247 6672895.892)   \n",
      "2  POINT (25485440.532 6672255.563)   \n",
      "3  POINT (25489707.583 6678342.162)   \n",
      "4  POINT (25497943.932 6686656.982)   \n",
      "\n",
      "                                             address    id       name  \\\n",
      "0  Kauppakeskus Itis, 1-7, Itäkatu, Itäkeskus, Va...  1000       Itis   \n",
      "1  Apollo Street Bar, 20, Mannerheimintie, Keskus...  1001      Forum   \n",
      "2  Sports Academy, 11, Piispansilta, Nuottaniemi,...  1002  Iso_omena   \n",
      "3  Mehiläinen Leppävaara, 3, Leppävaarankatu, Ete...  1003      Sello   \n",
      "4  Stockmann, 3, Vantaanportinkatu, Pakkala, Avia...  1004      Jumbo   \n",
      "\n",
      "                                          addr  \\\n",
      "0           Itäkatu 1, 00930 Helsinki, Finland   \n",
      "1  Mannerheimintie 20, 00100 Helsinki, Finland   \n",
      "2        Piispansilta 11, 02230 Espoo, Finland   \n",
      "3      Leppävaarankatu 3, 02600 Espoo, Finland   \n",
      "4   Vantaanportinkatu 3, 01510 Vantaa, Finland   \n",
      "\n",
      "                                              buffer  \n",
      "0  POLYGON ((25506098.602 6677662.109, 25506091.3...  \n",
      "1  POLYGON ((25498090.247 6672895.892, 25498083.0...  \n",
      "2  POLYGON ((25486940.532 6672255.563, 25486933.3...  \n",
      "3  POLYGON ((25491207.583 6678342.162, 25491200.3...  \n",
      "4  POLYGON ((25499443.932 6686656.982, 25499436.7...  \n"
     ]
    }
   ],
   "source": [
    "#NON-EDITABLE TEST CELL\n",
    "print(geodata.head())"
   ]
  },
  {
   "cell_type": "code",
   "execution_count": 55,
   "metadata": {
    "deletable": false,
    "editable": false,
    "nbgrader": {
     "cell_type": "code",
     "checksum": "3aa92b08ec2320d792f9de905622df3d",
     "grade": true,
     "grade_id": "problem_2_shape_test",
     "locked": true,
     "points": 1,
     "schema_version": 3,
     "solution": false,
     "task": false
    }
   },
   "outputs": [
    {
     "name": "stdout",
     "output_type": "stream",
     "text": [
      "<class 'shapely.geometry.polygon.Polygon'>\n"
     ]
    }
   ],
   "source": [
    "#NON-EDITABLE TEST CELL\n",
    "# Check the data type of the first value in the buffer-column\n",
    "print(type(geodata.at[0,'buffer']))"
   ]
  },
  {
   "cell_type": "code",
   "execution_count": 56,
   "metadata": {
    "deletable": false,
    "editable": false,
    "nbgrader": {
     "cell_type": "code",
     "checksum": "d6e0fe9059fff655e76e4ca36a024253",
     "grade": true,
     "grade_id": "problem_2_buffer_test",
     "locked": true,
     "points": 2,
     "schema_version": 3,
     "solution": false
    }
   },
   "outputs": [
    {
     "name": "stdout",
     "output_type": "stream",
     "text": [
      "0    7.0\n",
      "1    7.0\n",
      "2    7.0\n",
      "3    7.0\n",
      "4    7.0\n",
      "5    7.0\n",
      "6    7.0\n",
      "dtype: float64\n"
     ]
    }
   ],
   "source": [
    "#NON-EDITABLE TEST CELL\n",
    "# Check the areas of your buffers in km^2\n",
    "print(round(gpd.GeoSeries(geodata[\"buffer\"]).area / 1000000))"
   ]
  },
  {
   "cell_type": "markdown",
   "metadata": {},
   "source": [
    "- Replace the values in `geometry` column with the values of `buffer` column:"
   ]
  },
  {
   "cell_type": "code",
   "execution_count": 59,
   "metadata": {
    "deletable": false,
    "nbgrader": {
     "cell_type": "code",
     "checksum": "bdecc7b62de965a4d86ecccf28de49b2",
     "grade": false,
     "grade_id": "geometry",
     "locked": false,
     "schema_version": 3,
     "solution": true
    }
   },
   "outputs": [],
   "source": [
    "geodata['geometry'] = geodata['buffer']"
   ]
  },
  {
   "cell_type": "code",
   "execution_count": 60,
   "metadata": {
    "deletable": false,
    "editable": false,
    "nbgrader": {
     "cell_type": "code",
     "checksum": "47a972c42e423c1597440885fa571d34",
     "grade": true,
     "grade_id": "problem_2_geometry_test",
     "locked": true,
     "points": 1,
     "schema_version": 3,
     "solution": false
    }
   },
   "outputs": [
    {
     "name": "stdout",
     "output_type": "stream",
     "text": [
      "                                            geometry  \\\n",
      "0  POLYGON ((25506098.602 6677662.109, 25506091.3...   \n",
      "1  POLYGON ((25498090.247 6672895.892, 25498083.0...   \n",
      "2  POLYGON ((25486940.532 6672255.563, 25486933.3...   \n",
      "3  POLYGON ((25491207.583 6678342.162, 25491200.3...   \n",
      "4  POLYGON ((25499443.932 6686656.982, 25499436.7...   \n",
      "\n",
      "                                             address    id       name  \\\n",
      "0  Kauppakeskus Itis, 1-7, Itäkatu, Itäkeskus, Va...  1000       Itis   \n",
      "1  Apollo Street Bar, 20, Mannerheimintie, Keskus...  1001      Forum   \n",
      "2  Sports Academy, 11, Piispansilta, Nuottaniemi,...  1002  Iso_omena   \n",
      "3  Mehiläinen Leppävaara, 3, Leppävaarankatu, Ete...  1003      Sello   \n",
      "4  Stockmann, 3, Vantaanportinkatu, Pakkala, Avia...  1004      Jumbo   \n",
      "\n",
      "                                          addr  \\\n",
      "0           Itäkatu 1, 00930 Helsinki, Finland   \n",
      "1  Mannerheimintie 20, 00100 Helsinki, Finland   \n",
      "2        Piispansilta 11, 02230 Espoo, Finland   \n",
      "3      Leppävaarankatu 3, 02600 Espoo, Finland   \n",
      "4   Vantaanportinkatu 3, 01510 Vantaa, Finland   \n",
      "\n",
      "                                              buffer  \n",
      "0  POLYGON ((25506098.602 6677662.109, 25506091.3...  \n",
      "1  POLYGON ((25498090.247 6672895.892, 25498083.0...  \n",
      "2  POLYGON ((25486940.532 6672255.563, 25486933.3...  \n",
      "3  POLYGON ((25491207.583 6678342.162, 25491200.3...  \n",
      "4  POLYGON ((25499443.932 6686656.982, 25499436.7...  \n"
     ]
    }
   ],
   "source": [
    "#NON-EDITABLE TEST CELL\n",
    "print(geodata.head())"
   ]
  },
  {
   "cell_type": "markdown",
   "metadata": {},
   "source": [
    "Optional: at this point, you can drop out unnecessary columns from the geodataframe. In the next problem, \n",
    "we will only need these columns: `'id', 'name', 'geometry'`"
   ]
  },
  {
   "cell_type": "code",
   "execution_count": 61,
   "metadata": {},
   "outputs": [
    {
     "data": {
      "text/html": [
       "<div>\n",
       "<style scoped>\n",
       "    .dataframe tbody tr th:only-of-type {\n",
       "        vertical-align: middle;\n",
       "    }\n",
       "\n",
       "    .dataframe tbody tr th {\n",
       "        vertical-align: top;\n",
       "    }\n",
       "\n",
       "    .dataframe thead th {\n",
       "        text-align: right;\n",
       "    }\n",
       "</style>\n",
       "<table border=\"1\" class=\"dataframe\">\n",
       "  <thead>\n",
       "    <tr style=\"text-align: right;\">\n",
       "      <th></th>\n",
       "      <th>id</th>\n",
       "      <th>name</th>\n",
       "      <th>geometry</th>\n",
       "    </tr>\n",
       "  </thead>\n",
       "  <tbody>\n",
       "    <tr>\n",
       "      <th>0</th>\n",
       "      <td>1000</td>\n",
       "      <td>Itis</td>\n",
       "      <td>POLYGON ((25506098.602 6677662.109, 25506091.3...</td>\n",
       "    </tr>\n",
       "    <tr>\n",
       "      <th>1</th>\n",
       "      <td>1001</td>\n",
       "      <td>Forum</td>\n",
       "      <td>POLYGON ((25498090.247 6672895.892, 25498083.0...</td>\n",
       "    </tr>\n",
       "    <tr>\n",
       "      <th>2</th>\n",
       "      <td>1002</td>\n",
       "      <td>Iso_omena</td>\n",
       "      <td>POLYGON ((25486940.532 6672255.563, 25486933.3...</td>\n",
       "    </tr>\n",
       "  </tbody>\n",
       "</table>\n",
       "</div>"
      ],
      "text/plain": [
       "     id       name                                           geometry\n",
       "0  1000       Itis  POLYGON ((25506098.602 6677662.109, 25506091.3...\n",
       "1  1001      Forum  POLYGON ((25498090.247 6672895.892, 25498083.0...\n",
       "2  1002  Iso_omena  POLYGON ((25486940.532 6672255.563, 25486933.3..."
      ]
     },
     "execution_count": 61,
     "metadata": {},
     "output_type": "execute_result"
    }
   ],
   "source": [
    "# keep only required cols\n",
    "cols = ['id', 'name', 'geometry']\n",
    "\n",
    "geodata = geodata[cols]\n",
    "geodata.head(3)"
   ]
  },
  {
   "cell_type": "markdown",
   "metadata": {},
   "source": [
    "## Problem 3: How many people live near shopping centers? (5 points)\n",
    "\n",
    "Last step in our analysis is to make a spatial join between our buffer layer and population data in order to find out **how many people live near each shopping center**. We will use the same data as we did during [lesson 3](https://automating-gis-processes.github.io/site/notebooks/L3/spatial-join.html#Spatial-join); **a Population Grid** that is available via the HSY wfs. \n",
    "\n",
    "Alternatively, you can also download the data from the [Helsinki Region Infoshare (HRI)](https://www.hsy.fi/fi/asiantuntijalle/avoindata/Sivut/AvoinData.aspx?dataID=7) as a shapefile (using wget).\n",
    "\n",
    "The coordinate reference system of the population grid is **ETRS GK-25 (EPSG:3879)**.\n",
    "\n",
    "\n",
    "**Steps:**\n",
    "\n",
    "- Read the population grid into a geodataframe\n",
    "\n",
    "- Select only the useful columns from the population grid: ``'asukkaita'`` (=population count per grid square) and ``'geometry'`` \n",
    "\n",
    "- Make a spatial join between your buffered point layer and population grid layer. Join the information now from buffer layer **into the population grid layer**\n",
    "\n",
    "- Group the joined layer by shopping center index\n",
    "\n",
    "- Calculate the sum of population living within 1.5 km for each shopping center.\n",
    "\n",
    "**Finally:**\n",
    "\n",
    "- Print out the population living within 1.5 km from each shopping center:\n",
    "\n",
    "     - Itis\n",
    "     - Forum\n",
    "     - Iso-omena\n",
    "     - Sello\n",
    "     - Jumbo\n",
    "     - REDI\n",
    "     - Tripla\n",
    "     \n",
    "**Final print out should contain both the shopping center name and population count**, for example: `25858 people live within 1.5 km from Iso-Omena`.\n",
    "\n",
    "*Feel free to divide your solution into several codeblocks! Remember to comment your code  :)*"
   ]
  },
  {
   "cell_type": "code",
   "execution_count": 72,
   "metadata": {
    "deletable": false,
    "nbgrader": {
     "cell_type": "code",
     "checksum": "ce4513d664d7851d8da8b9d648b75bf7",
     "grade": false,
     "grade_id": "read_wfs",
     "locked": false,
     "schema_version": 3,
     "solution": true,
     "task": false
    }
   },
   "outputs": [
    {
     "data": {
      "text/plain": [
       "name\n",
       "Forum        55825\n",
       "Iso_omena    26694\n",
       "Itis         19930\n",
       "Jumbo        10317\n",
       "REDI         24540\n",
       "Sello        21490\n",
       "Tripla       18791\n",
       "Name: pop18, dtype: int64"
      ]
     },
     "execution_count": 72,
     "metadata": {},
     "output_type": "execute_result"
    }
   ],
   "source": [
    "# Read population grid data for 2018 into a variable `pop`. \n",
    "\n",
    "# load modules\n",
    "from pyproj import CRS\n",
    "import requests\n",
    "import geojson\n",
    "\n",
    "#1. Specify the url for web feature service\n",
    "url = 'https://kartta.hsy.fi/geoserver/wfs'\n",
    "\n",
    "# Specify parameters (read data in json format).\n",
    "# Available feature types in this particular data source: http://geo.stat.fi/geoserver/vaestoruutu/wfs?service=wfs&version=2.0.0&request=describeFeatureType\n",
    "params = dict(service='WFS',\n",
    "              version='2.0.0',\n",
    "              request='GetFeature',\n",
    "              typeName='asuminen_ja_maankaytto:Vaestotietoruudukko_2018',\n",
    "              outputFormat='json')\n",
    "\n",
    "# Fetch data from WFS using requests\n",
    "r = requests.get(url, params=params)\n",
    "\n",
    "# Create GeoDataFrame from geojson\n",
    "pop = gpd.GeoDataFrame.from_features(geojson.loads(r.content))\n",
    "\n",
    "#2. keep only the required cols\n",
    "pop = pop[['geometry', 'asukkaita']]\n",
    "\n",
    "# Change the name of a column\n",
    "pop = pop.rename(columns={'asukkaita': 'pop18'})\n",
    "\n",
    "# assign projection to pop\n",
    "pop.crs = CRS.from_epsg(3879)\n",
    "\n",
    "# confirm projections for both layers: pop and geodata\n",
    "# print('Does pop and geodata layers have the same crs? - ', pop.crs == geodata.crs)\n",
    "\n",
    "#3. perform spatial join\n",
    "join = gpd.sjoin(geodata, pop, how='inner', op='contains')\n",
    "\n",
    "#4. group data by name of mall and then sum population col\n",
    "grouped = join.groupby('name')['pop18'].sum()\n",
    "grouped"
   ]
  },
  {
   "cell_type": "code",
   "execution_count": 73,
   "metadata": {
    "deletable": false,
    "editable": false,
    "nbgrader": {
     "cell_type": "code",
     "checksum": "8fe4f1ecd4466cf975714202c832be7e",
     "grade": true,
     "grade_id": "problem_3_read_data_test",
     "locked": true,
     "points": 1,
     "schema_version": 3,
     "solution": false,
     "task": false
    }
   },
   "outputs": [
    {
     "name": "stdout",
     "output_type": "stream",
     "text": [
      "Number of rows: 3167\n",
      "                                            geometry  pop18\n",
      "0  MULTIPOLYGON Z (((25476499.999 6674248.999 0.0...    108\n",
      "1  MULTIPOLYGON Z (((25476749.997 6674498.998 0.0...    273\n",
      "2  MULTIPOLYGON Z (((25476999.994 6675749.004 0.0...    239\n"
     ]
    }
   ],
   "source": [
    "#NON-EDITABLE TEST CELL\n",
    "# Check your input data\n",
    "print(\"Number of rows:\", len(pop))\n",
    "print(pop.head(3))"
   ]
  },
  {
   "cell_type": "code",
   "execution_count": 74,
   "metadata": {
    "deletable": false,
    "nbgrader": {
     "cell_type": "code",
     "checksum": "6e1a19296e4d4bbdd868d231ed20505b",
     "grade": false,
     "grade_id": "spatial_join",
     "locked": false,
     "schema_version": 3,
     "solution": true
    }
   },
   "outputs": [],
   "source": [
    "# Create a spatial join between grid layer and buffer layer. \n",
    "# implemented above"
   ]
  },
  {
   "cell_type": "code",
   "execution_count": 76,
   "metadata": {
    "deletable": false,
    "nbgrader": {
     "cell_type": "code",
     "checksum": "31380c3846a2b817d025fdd218289113",
     "grade": false,
     "grade_id": "print_results",
     "locked": false,
     "schema_version": 3,
     "solution": true,
     "task": false
    }
   },
   "outputs": [],
   "source": [
    "# Report how many people live within 1.5 km distance from each shopping center\n",
    "# implemented above\n",
    "# name         Pop\n",
    "# Forum        55825\n",
    "# Iso_omena    26694\n",
    "# Itis         19930\n",
    "# Jumbo        10317\n",
    "# REDI         24540\n",
    "# Sello        21490\n",
    "# Tripla       18791"
   ]
  },
  {
   "cell_type": "markdown",
   "metadata": {},
   "source": [
    "**Reflections:**\n",
    "    \n",
    "- How challenging did you find problems 1-3 (on scale to 1-5), and why?\n",
    "- What was easy?\n",
    "- What was difficult?"
   ]
  },
  {
   "cell_type": "markdown",
   "metadata": {
    "deletable": false,
    "nbgrader": {
     "cell_type": "markdown",
     "checksum": "ae8c161a5ec09a095453240cd41b6da8",
     "grade": true,
     "grade_id": "problem_3_Check_problem_3",
     "locked": false,
     "points": 4,
     "schema_version": 3,
     "solution": true
    }
   },
   "source": [
    "Not bad!"
   ]
  },
  {
   "cell_type": "markdown",
   "metadata": {},
   "source": [
    "Well done! Now you can continue to [problem 4](Exercise-3-Problem-4.ipynb)"
   ]
  }
 ],
 "metadata": {
  "anaconda-cloud": {},
  "kernelspec": {
   "display_name": "Python 3",
   "language": "python",
   "name": "python3"
  },
  "language_info": {
   "codemirror_mode": {
    "name": "ipython",
    "version": 3
   },
   "file_extension": ".py",
   "mimetype": "text/x-python",
   "name": "python",
   "nbconvert_exporter": "python",
   "pygments_lexer": "ipython3",
   "version": "3.7.8"
  }
 },
 "nbformat": 4,
 "nbformat_minor": 4
}
