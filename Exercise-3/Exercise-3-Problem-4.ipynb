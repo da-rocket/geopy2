{
 "cells": [
  {
   "cell_type": "markdown",
   "metadata": {},
   "source": [
    "## Problem 4: What is the closest shopping center from your home / work? (5 points)\n",
    "\n",
    "In the last problem you should find out the closest shopping center from two different locations a) your home and b) work place. \n",
    "\n",
    "**Steps**:\n",
    "\n",
    " - Create a txt-file called `activity_locations.txt` (use same formatting as in Problem 1) with two columns:\n",
    "    - `id`: unique id for each row\n",
    "    - `addr`:  address of your work and home (or any two addresses in the Helsinki Region.)\n",
    "    \n",
    "Save the text file into this repository.\n",
    "    \n",
    " - Read those addresses using pandas and geocode the addresses.\n",
    " - Find out the nearest shopping center to these points using Shapely `nearest_points`.\n",
    " - Print out the name of the shopping center that is nearest to a) home and b) work. For example: `Shopping center closest to home: REDI`."
   ]
  },
  {
   "cell_type": "code",
   "execution_count": 1,
   "metadata": {
    "deletable": false,
    "nbgrader": {
     "cell_type": "code",
     "checksum": "f8d9bb1491a5675d77264cebbf529f88",
     "grade": false,
     "grade_id": "read_data",
     "locked": false,
     "schema_version": 3,
     "solution": true
    }
   },
   "outputs": [
    {
     "data": {
      "text/html": [
       "<div>\n",
       "<style scoped>\n",
       "    .dataframe tbody tr th:only-of-type {\n",
       "        vertical-align: middle;\n",
       "    }\n",
       "\n",
       "    .dataframe tbody tr th {\n",
       "        vertical-align: top;\n",
       "    }\n",
       "\n",
       "    .dataframe thead th {\n",
       "        text-align: right;\n",
       "    }\n",
       "</style>\n",
       "<table border=\"1\" class=\"dataframe\">\n",
       "  <thead>\n",
       "    <tr style=\"text-align: right;\">\n",
       "      <th></th>\n",
       "      <th>id</th>\n",
       "      <th>addr</th>\n",
       "    </tr>\n",
       "  </thead>\n",
       "  <tbody>\n",
       "    <tr>\n",
       "      <th>0</th>\n",
       "      <td>Senate</td>\n",
       "      <td>00170 Helsinki, Finland</td>\n",
       "    </tr>\n",
       "    <tr>\n",
       "      <th>1</th>\n",
       "      <td>Museum</td>\n",
       "      <td>Mannerheimintie 34, 00100 Helsinki, Finland</td>\n",
       "    </tr>\n",
       "  </tbody>\n",
       "</table>\n",
       "</div>"
      ],
      "text/plain": [
       "       id                                         addr\n",
       "0  Senate                      00170 Helsinki, Finland\n",
       "1  Museum  Mannerheimintie 34, 00100 Helsinki, Finland"
      ]
     },
     "execution_count": 1,
     "metadata": {},
     "output_type": "execute_result"
    }
   ],
   "source": [
    "# Import modules\n",
    "import pandas as pd\n",
    "import geopandas as gpd\n",
    "from shapely.geometry import Point\n",
    "\n",
    "# Read the data\n",
    "fp = r'activity_locations.txt'\n",
    "data = pd.read_csv(fp, sep=';')\n",
    "\n",
    "data.head()"
   ]
  },
  {
   "cell_type": "code",
   "execution_count": 2,
   "metadata": {
    "deletable": false,
    "nbgrader": {
     "cell_type": "code",
     "checksum": "cde51574e6cd404266ead2aad7ac5938",
     "grade": false,
     "grade_id": "geocode",
     "locked": false,
     "schema_version": 3,
     "solution": true,
     "task": false
    }
   },
   "outputs": [
    {
     "data": {
      "text/html": [
       "<div>\n",
       "<style scoped>\n",
       "    .dataframe tbody tr th:only-of-type {\n",
       "        vertical-align: middle;\n",
       "    }\n",
       "\n",
       "    .dataframe tbody tr th {\n",
       "        vertical-align: top;\n",
       "    }\n",
       "\n",
       "    .dataframe thead th {\n",
       "        text-align: right;\n",
       "    }\n",
       "</style>\n",
       "<table border=\"1\" class=\"dataframe\">\n",
       "  <thead>\n",
       "    <tr style=\"text-align: right;\">\n",
       "      <th></th>\n",
       "      <th>geometry</th>\n",
       "      <th>address</th>\n",
       "    </tr>\n",
       "  </thead>\n",
       "  <tbody>\n",
       "    <tr>\n",
       "      <th>0</th>\n",
       "      <td>POINT (24.95527 60.17196)</td>\n",
       "      <td>Kruununhaka, Eteläinen suurpiiri, Helsinki, He...</td>\n",
       "    </tr>\n",
       "    <tr>\n",
       "      <th>1</th>\n",
       "      <td>POINT (24.93178 60.17496)</td>\n",
       "      <td>Kansallismuseo, 34, Mannerheimintie, Etu-Töölö...</td>\n",
       "    </tr>\n",
       "  </tbody>\n",
       "</table>\n",
       "</div>"
      ],
      "text/plain": [
       "                    geometry  \\\n",
       "0  POINT (24.95527 60.17196)   \n",
       "1  POINT (24.93178 60.17496)   \n",
       "\n",
       "                                             address  \n",
       "0  Kruununhaka, Eteläinen suurpiiri, Helsinki, He...  \n",
       "1  Kansallismuseo, 34, Mannerheimintie, Etu-Töölö...  "
      ]
     },
     "execution_count": 2,
     "metadata": {},
     "output_type": "execute_result"
    }
   ],
   "source": [
    "# import modules\n",
    "from geopandas.tools import geocode\n",
    "\n",
    "# Geocode activity locations\n",
    "geo = geocode(data['addr'], provider='nominatim', user_agent='autogis_VU', timeout=4)\n",
    "geo.head()"
   ]
  },
  {
   "cell_type": "code",
   "execution_count": 15,
   "metadata": {
    "deletable": false,
    "nbgrader": {
     "cell_type": "code",
     "checksum": "866e8fe33cb5b2e5f7d3fbecd76130f1",
     "grade": false,
     "grade_id": "check_crs",
     "locked": false,
     "schema_version": 3,
     "solution": true,
     "task": false
    }
   },
   "outputs": [],
   "source": [
    "# existing data.crs (EPSG:4326), based on WGS84. Project layer to EPSG:3879 which is common to malls file, and is cartesian\n",
    "\n",
    "# import required library\n",
    "from pyproj import CRS\n",
    "\n",
    "# perform data projection\n",
    "geo = geo.to_crs(CRS.from_epsg(3879))\n",
    "\n",
    "# join geo and data to keep malls id\n",
    "geodata = geo.join(data)\n",
    "\n",
    "# keep id and geometry cols\n",
    "geodata = geodata[['id','geometry']]\n",
    "\n",
    "# Define output filepath\n",
    "out_fp = r'activity_locations.shp'\n",
    "\n",
    "# save as shp file, in case it's needed some place else\n",
    "geodata.to_file(out_fp)"
   ]
  },
  {
   "cell_type": "code",
   "execution_count": 28,
   "metadata": {
    "deletable": false,
    "nbgrader": {
     "cell_type": "code",
     "checksum": "5c1d055ae749e65f0c63e487b074ad21",
     "grade": false,
     "grade_id": "nearest_points",
     "locked": false,
     "schema_version": 3,
     "solution": true,
     "task": false
    }
   },
   "outputs": [
    {
     "data": {
      "text/html": [
       "<div>\n",
       "<style scoped>\n",
       "    .dataframe tbody tr th:only-of-type {\n",
       "        vertical-align: middle;\n",
       "    }\n",
       "\n",
       "    .dataframe tbody tr th {\n",
       "        vertical-align: top;\n",
       "    }\n",
       "\n",
       "    .dataframe thead th {\n",
       "        text-align: right;\n",
       "    }\n",
       "</style>\n",
       "<table border=\"1\" class=\"dataframe\">\n",
       "  <thead>\n",
       "    <tr style=\"text-align: right;\">\n",
       "      <th></th>\n",
       "      <th>id</th>\n",
       "      <th>geometry</th>\n",
       "      <th>nearest_loc</th>\n",
       "    </tr>\n",
       "  </thead>\n",
       "  <tbody>\n",
       "    <tr>\n",
       "      <th>0</th>\n",
       "      <td>Senate</td>\n",
       "      <td>POINT (25497516.879 6673232.286)</td>\n",
       "      <td>Forum</td>\n",
       "    </tr>\n",
       "    <tr>\n",
       "      <th>1</th>\n",
       "      <td>Museum</td>\n",
       "      <td>POINT (25496213.523 6673567.812)</td>\n",
       "      <td>Forum</td>\n",
       "    </tr>\n",
       "  </tbody>\n",
       "</table>\n",
       "</div>"
      ],
      "text/plain": [
       "       id                          geometry nearest_loc\n",
       "0  Senate  POINT (25497516.879 6673232.286)       Forum\n",
       "1  Museum  POINT (25496213.523 6673567.812)       Forum"
      ]
     },
     "execution_count": 28,
     "metadata": {},
     "output_type": "execute_result"
    }
   ],
   "source": [
    "# import libraries\n",
    "from shapely.ops import nearest_points\n",
    "\n",
    "# import shape file for malls\n",
    "fp_path = r'shopping_centers.shp'\n",
    "malls = gpd.read_file(fp_path)\n",
    "\n",
    "# check crs is the same\n",
    "# malls.crs == geodata.crs\n",
    "\n",
    "# Find the closest shopping center for each activity location (closest shopping center from\n",
    "# and closest shopping center from work) and print out the results:\n",
    "\n",
    "def nearest_values(row, other_gdf, value_col='name'):\n",
    "    \n",
    "    # join all points into one object\n",
    "    other_points = other_gdf['geometry'].unary_union\n",
    "    \n",
    "    # find geometry of the nearest point\n",
    "    nearest_geom = nearest_points(row['geometry'], other_points)\n",
    "    \n",
    "    # find the actual row record by using a mask\n",
    "    nearest_data = other_gdf[other_gdf['geometry'] == nearest_geom[1]]\n",
    "    \n",
    "    # find the cell value\n",
    "    nearest_value = nearest_data[value_col]    \n",
    "   \n",
    "    return nearest_value.values[0]\n",
    "\n",
    "geodata['nearest_loc'] = geodata.apply(nearest_values, other_gdf=malls, axis=1)\n",
    "geodata\n"
   ]
  },
  {
   "cell_type": "markdown",
   "metadata": {},
   "source": [
    "Can you think of other application cases for the nearest neighbour analysis?"
   ]
  },
  {
   "cell_type": "code",
   "execution_count": null,
   "metadata": {
    "deletable": false,
    "nbgrader": {
     "cell_type": "code",
     "checksum": "9097d06476510270641179f9a799bad7",
     "grade": true,
     "grade_id": "problem_4_check",
     "locked": false,
     "points": 5,
     "schema_version": 3,
     "solution": true
    }
   },
   "outputs": [],
   "source": [
    "# REPLACE THE ERROR BELOW WITH YOUR OWN CODE\n",
    "# raise NotImplementedError()"
   ]
  }
 ],
 "metadata": {
  "anaconda-cloud": {},
  "kernelspec": {
   "display_name": "Python 3",
   "language": "python",
   "name": "python3"
  },
  "language_info": {
   "codemirror_mode": {
    "name": "ipython",
    "version": 3
   },
   "file_extension": ".py",
   "mimetype": "text/x-python",
   "name": "python",
   "nbconvert_exporter": "python",
   "pygments_lexer": "ipython3",
   "version": "3.7.8"
  }
 },
 "nbformat": 4,
 "nbformat_minor": 4
}
